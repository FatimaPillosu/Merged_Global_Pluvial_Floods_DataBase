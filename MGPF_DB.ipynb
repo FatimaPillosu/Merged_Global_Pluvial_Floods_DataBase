{
 "cells": [
  {
   "cell_type": "markdown",
   "metadata": {},
   "source": [
    "# Merged_Global_Pluvial_Floods_DataBase"
   ]
  },
  {
   "cell_type": "markdown",
   "metadata": {},
   "source": [
    "## Download the Input Data from Zenodo"
   ]
  },
  {
   "cell_type": "code",
   "execution_count": 1,
   "metadata": {},
   "outputs": [
    {
     "name": "stdout",
     "output_type": "stream",
     "text": [
      "Archive:  Data.zip\n",
      "   creating: Data/\n",
      "   creating: Data/CPC_GLOBAL_PRCP_V1.0/\n",
      "  inflating: Data/CPC_GLOBAL_PRCP_V1.0/precip.2016.nc  \n",
      "  inflating: Data/CPC_GLOBAL_PRCP_V1.0/precip.2017.nc  \n",
      "  inflating: Data/LICENSE.md         \n",
      "   creating: Data/RawDBs/\n",
      "   creating: Data/RawDBs/ESWD/\n",
      "  inflating: Data/RawDBs/ESWD/ESWD.csv  \n",
      "   creating: Data/RawDBs/EMDAT/\n",
      "  inflating: Data/RawDBs/EMDAT/Fatima Pillosu_2019-10-23.csv  \n",
      "   creating: Data/RawDBs/FL/\n",
      "  inflating: Data/RawDBs/FL/floodlist_events_yr2016.csv  \n",
      "  inflating: Data/RawDBs/FL/floodlist_events_yr2017.csv  \n",
      "   creating: Data/RawDBs/SED/\n",
      "  inflating: Data/RawDBs/SED/StormEvents_details-ftp_v1.0_d2017_c20200121.csv  \n",
      "  inflating: Data/RawDBs/SED/StormEvents_details-ftp_v1.0_d2016_c20190817.csv  \n",
      "  inflating: Data/README.md          \n",
      "  inflating: Data/.Rhistory          \n",
      "  inflating: Data/DataTree.png       \n"
     ]
    },
    {
     "name": "stderr",
     "output_type": "stream",
     "text": [
      "Title: Merged Global Pluvial Floods DataBase (Input Data)\n",
      "Keywords: Flood Reports, FloodList, Emergency Events Database, European Severe Weather Database, Storm Events Database\n",
      "Publication date: 2020-02-01\n",
      "DOI: 10.5281/zenodo.3633750\n",
      "Total size: 130.4 MB\n",
      "\n",
      "Link: https://zenodo.org/api/files/d8da7cd7-961e-43d3-901a-51b4f5a78c64/Data.zip   size: 130.4 MB\n",
      "\n",
      "Checksum is correct. (2c1014bf741677086f8ab5d966d47cde)\n",
      "All files have been downloaded.\n"
     ]
    }
   ],
   "source": [
    "%%bash \n",
    "\n",
    "# ------------------------ #\n",
    "# INPUT VARIABLES\n",
    "DOI=\"10.5281/zenodo.3633750\" \n",
    "# ------------------------ #\n",
    "\n",
    "zenodo_get.py $DOI\n",
    "unzip Data.zip\n",
    "rm -f Data.zip md5sums.txt"
   ]
  },
  {
   "cell_type": "code",
   "execution_count": null,
   "metadata": {},
   "outputs": [],
   "source": []
  }
 ],
 "metadata": {
  "kernelspec": {
   "display_name": "Python 3",
   "language": "python",
   "name": "python3"
  },
  "language_info": {
   "codemirror_mode": {
    "name": "ipython",
    "version": 3
   },
   "file_extension": ".py",
   "mimetype": "text/x-python",
   "name": "python",
   "nbconvert_exporter": "python",
   "pygments_lexer": "ipython3",
   "version": "3.6.9"
  }
 },
 "nbformat": 4,
 "nbformat_minor": 2
}
