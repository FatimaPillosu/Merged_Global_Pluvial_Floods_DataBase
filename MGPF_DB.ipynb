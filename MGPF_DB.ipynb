{
 "cells": [
  {
   "cell_type": "markdown",
   "metadata": {},
   "source": [
    "# Merged_Global_Pluvial_Floods_DataBase"
   ]
  },
  {
   "cell_type": "markdown",
   "metadata": {},
   "source": [
    "## Download the Input Data from Zenodo"
   ]
  },
  {
   "cell_type": "code",
   "execution_count": 7,
   "metadata": {},
   "outputs": [
    {
     "name": "stdout",
     "output_type": "stream",
     "text": [
      "Input data already downloaded from Zenodo.\n"
     ]
    }
   ],
   "source": [
    "%%bash \n",
    "\n",
    "# ------------------------ #\n",
    "# INPUT VARIABLES\n",
    "DOI=\"10.5281/zenodo.3633750\" \n",
    "# ------------------------ #\n",
    "\n",
    "if test -d \"./Data\"; then\n",
    "    echo \"Input data already downloaded from Zenodo.\"\n",
    "else\n",
    "    echo \"Downloading the input data from Zenodo...\"\n",
    "    zenodo_get.py $DOI\n",
    "    unzip Data.zip\n",
    "    rm -f Data.zip md5sums.txt\n",
    "fi"
   ]
  }
 ],
 "metadata": {
  "kernelspec": {
   "display_name": "Python 3",
   "language": "python",
   "name": "python3"
  },
  "language_info": {
   "codemirror_mode": {
    "name": "ipython",
    "version": 3
   },
   "file_extension": ".py",
   "mimetype": "text/x-python",
   "name": "python",
   "nbconvert_exporter": "python",
   "pygments_lexer": "ipython3",
   "version": "3.6.9"
  }
 },
 "nbformat": 4,
 "nbformat_minor": 2
}
