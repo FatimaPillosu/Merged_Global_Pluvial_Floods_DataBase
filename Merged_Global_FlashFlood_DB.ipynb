{
 "cells": [
  {
   "cell_type": "markdown",
   "metadata": {},
   "source": [
    "# Merged Global Flash Flood Database, Version 1.0 (MGFFD_v1.0)\n",
    "\n",
    "<span style=\"font-family:Arial; font-size:20px;\">Fatima Pillosu</span> [ORCID](https://orcid.org/0000-0001-8127-0990) [Twitter](https://twitter.com/pillosufatima?lang=en) [GitHub](https://github.com/FatimaPillosu/Merged-Global-Flash-Flood-DB)   \n",
    "<span style=\"font-family:Arial; font-size:18px;\">\n",
    "    PhD Candidate at University of Reading (Reading UK)   \n",
    "    Scientist at ECMWF(Reading UK)   \n",
    "</span>\n",
    "\n",
    "\n",
    "---\n",
    "\n",
    "\n",
    "## Introduction\n",
    "\n",
    "This Jupyter notebook runs the Matlab Toolbox \"MGFFD\" created to merge flash flood reports from different sources, and create a merged global flash flood database. Such database, for example, can be used to:   \n",
    "* Analyse flash flood frequencies around the world;  \n",
    "* Verify flash flood forecasting products.\n",
    "\n",
    "Currently, the Matlab toolbox merges flash flood reports from four different original sources:\n",
    "* [FloodList (FL)](http://floodlist.com/) (global domain)\n",
    "* [Emergency Events Database (EM-DAT)](https://www.emdat.be/) (global domain)\n",
    "* [European Severe Weather Database (ESWD)](https://www.eswd.eu/) (European domain)\n",
    "* [Storm Event Database (SED)](https://www.ncdc.noaa.gov/stormevents/) (USA domain)\n",
    "\n",
    "To know more  about the original raw sources and the methodology used to create the merged global datathe methodology behind the creation of the MGFFD_v1.0, please read the technical report \"TR_MGFFD_v1.0.doc\" in the [GitHub](https://github.com/FatimaPillosu/Merged-Global-Flash-Flood-DB) repository.\n",
    "\n",
    "\n",
    "---\n",
    "\n",
    "\n",
    "## Start Jupyter Notebook\n"
   ]
  },
  {
   "cell_type": "code",
   "execution_count": 1,
   "metadata": {},
   "outputs": [],
   "source": [
    "%%python\n",
    "import matlab.engine\n",
    "eng = matlab.engine.start_matlab()"
   ]
  },
  {
   "cell_type": "code",
   "execution_count": 23,
   "metadata": {},
   "outputs": [
    {
     "name": "stdout",
     "output_type": "stream",
     "text": [
      "Requirement already up-to-date: googlemaps in /home/fatimapillosu/anaconda3/envs/jmatlab/lib/python3.7/site-packages (3.1.3)\n",
      "Requirement already satisfied, skipping upgrade: requests<3.0,>=2.20.0 in /home/fatimapillosu/anaconda3/envs/jmatlab/lib/python3.7/site-packages (from googlemaps) (2.22.0)\n",
      "Requirement already satisfied, skipping upgrade: certifi>=2017.4.17 in /home/fatimapillosu/anaconda3/envs/jmatlab/lib/python3.7/site-packages (from requests<3.0,>=2.20.0->googlemaps) (2019.9.11)\n",
      "Requirement already satisfied, skipping upgrade: idna<2.9,>=2.5 in /home/fatimapillosu/anaconda3/envs/jmatlab/lib/python3.7/site-packages (from requests<3.0,>=2.20.0->googlemaps) (2.8)\n",
      "Requirement already satisfied, skipping upgrade: urllib3!=1.25.0,!=1.25.1,<1.26,>=1.21.1 in /home/fatimapillosu/anaconda3/envs/jmatlab/lib/python3.7/site-packages (from requests<3.0,>=2.20.0->googlemaps) (1.25.6)\n",
      "Requirement already satisfied, skipping upgrade: chardet<3.1.0,>=3.0.2 in /home/fatimapillosu/anaconda3/envs/jmatlab/lib/python3.7/site-packages (from requests<3.0,>=2.20.0->googlemaps) (3.0.4)\n"
     ]
    }
   ],
   "source": [
    "File = '/home/fatimapillosu/Jupyter_Projects/Install_GoogleMaps.sh';\n",
    "system(File);"
   ]
  },
  {
   "cell_type": "code",
   "execution_count": 22,
   "metadata": {},
   "outputs": [
    {
     "name": "stdout",
     "output_type": "stream",
     "text": [
      "39.2236694\n",
      "-84.44216410000001\n"
     ]
    }
   ],
   "source": [
    "File = 'python /home/fatimapillosu/Jupyter_Projects/GoogleMaps_LatLon.py';\n",
    "system(File);\n"
   ]
  },
  {
   "cell_type": "code",
   "execution_count": null,
   "metadata": {},
   "outputs": [],
   "source": []
  }
 ],
 "metadata": {
  "kernelspec": {
   "display_name": "Matlab",
   "language": "matlab",
   "name": "matlab"
  },
  "language_info": {
   "codemirror_mode": "octave",
   "file_extension": ".m",
   "help_links": [
    {
     "text": "MetaKernel Magics",
     "url": "https://metakernel.readthedocs.io/en/latest/source/README.html"
    }
   ],
   "mimetype": "text/x-octave",
   "name": "matlab",
   "version": "0.16.7"
  }
 },
 "nbformat": 4,
 "nbformat_minor": 2
}
